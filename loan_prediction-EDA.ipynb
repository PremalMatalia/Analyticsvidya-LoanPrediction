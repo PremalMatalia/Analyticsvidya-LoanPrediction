{
 "cells": [
  {
   "cell_type": "markdown",
   "metadata": {},
   "source": [
    "# Understanding the Business\n",
    "\n",
    "## About Company\n",
    "Dream Housing Finance company deals in all home loans. They have presence across all urban, semi urban and rural areas. Customer first apply for home loan after that company validates the customer eligibility for loan.\n",
    "\n",
    "## Problem\n",
    "Company wants to automate the loan eligibility process (real time) based on customer detail provided while filling online application form. These details are Gender, Marital Status, Education, Number of Dependents, Income, Loan Amount, Credit History and others. To automate this process, they have given a problem to identify the customers segments, those are eligible for loan amount so that they can specifically target these customers. \n"
   ]
  },
  {
   "cell_type": "code",
   "execution_count": 1,
   "metadata": {},
   "outputs": [],
   "source": [
    "import numpy as np\n",
    "import pandas as pd\n",
    "import matplotlib.pyplot as plt\n",
    "import seaborn as sns\n",
    "from sklearn.preprocessing import StandardScaler\n",
    "\n",
    "import warnings\n",
    "warnings.filterwarnings('ignore')"
   ]
  },
  {
   "cell_type": "code",
   "execution_count": 2,
   "metadata": {},
   "outputs": [],
   "source": [
    "sns.set(style=\"darkgrid\")\n",
    "pd.set_option('display.max_columns', 50) "
   ]
  },
  {
   "cell_type": "code",
   "execution_count": 3,
   "metadata": {},
   "outputs": [],
   "source": [
    "train_df = pd.read_csv('train_ctrUa4K.csv')"
   ]
  },
  {
   "cell_type": "markdown",
   "metadata": {},
   "source": [
    "# Understanding the data"
   ]
  },
  {
   "cell_type": "code",
   "execution_count": 4,
   "metadata": {
    "scrolled": true
   },
   "outputs": [
    {
     "name": "stdout",
     "output_type": "stream",
     "text": [
      "No of records in training data : (614, 13)\n"
     ]
    }
   ],
   "source": [
    "print('No of records in training data :', train_df.shape)"
   ]
  },
  {
   "cell_type": "code",
   "execution_count": 5,
   "metadata": {},
   "outputs": [
    {
     "data": {
      "text/html": [
       "<div>\n",
       "<style scoped>\n",
       "    .dataframe tbody tr th:only-of-type {\n",
       "        vertical-align: middle;\n",
       "    }\n",
       "\n",
       "    .dataframe tbody tr th {\n",
       "        vertical-align: top;\n",
       "    }\n",
       "\n",
       "    .dataframe thead th {\n",
       "        text-align: right;\n",
       "    }\n",
       "</style>\n",
       "<table border=\"1\" class=\"dataframe\">\n",
       "  <thead>\n",
       "    <tr style=\"text-align: right;\">\n",
       "      <th></th>\n",
       "      <th>Loan_ID</th>\n",
       "      <th>Gender</th>\n",
       "      <th>Married</th>\n",
       "      <th>Dependents</th>\n",
       "      <th>Education</th>\n",
       "      <th>Self_Employed</th>\n",
       "      <th>ApplicantIncome</th>\n",
       "      <th>CoapplicantIncome</th>\n",
       "      <th>LoanAmount</th>\n",
       "      <th>Loan_Amount_Term</th>\n",
       "      <th>Credit_History</th>\n",
       "      <th>Property_Area</th>\n",
       "      <th>Loan_Status</th>\n",
       "    </tr>\n",
       "  </thead>\n",
       "  <tbody>\n",
       "    <tr>\n",
       "      <td>0</td>\n",
       "      <td>LP001002</td>\n",
       "      <td>Male</td>\n",
       "      <td>No</td>\n",
       "      <td>0</td>\n",
       "      <td>Graduate</td>\n",
       "      <td>No</td>\n",
       "      <td>5849</td>\n",
       "      <td>0.0</td>\n",
       "      <td>NaN</td>\n",
       "      <td>360.0</td>\n",
       "      <td>1.0</td>\n",
       "      <td>Urban</td>\n",
       "      <td>Y</td>\n",
       "    </tr>\n",
       "    <tr>\n",
       "      <td>1</td>\n",
       "      <td>LP001003</td>\n",
       "      <td>Male</td>\n",
       "      <td>Yes</td>\n",
       "      <td>1</td>\n",
       "      <td>Graduate</td>\n",
       "      <td>No</td>\n",
       "      <td>4583</td>\n",
       "      <td>1508.0</td>\n",
       "      <td>128.0</td>\n",
       "      <td>360.0</td>\n",
       "      <td>1.0</td>\n",
       "      <td>Rural</td>\n",
       "      <td>N</td>\n",
       "    </tr>\n",
       "    <tr>\n",
       "      <td>2</td>\n",
       "      <td>LP001005</td>\n",
       "      <td>Male</td>\n",
       "      <td>Yes</td>\n",
       "      <td>0</td>\n",
       "      <td>Graduate</td>\n",
       "      <td>Yes</td>\n",
       "      <td>3000</td>\n",
       "      <td>0.0</td>\n",
       "      <td>66.0</td>\n",
       "      <td>360.0</td>\n",
       "      <td>1.0</td>\n",
       "      <td>Urban</td>\n",
       "      <td>Y</td>\n",
       "    </tr>\n",
       "    <tr>\n",
       "      <td>3</td>\n",
       "      <td>LP001006</td>\n",
       "      <td>Male</td>\n",
       "      <td>Yes</td>\n",
       "      <td>0</td>\n",
       "      <td>Not Graduate</td>\n",
       "      <td>No</td>\n",
       "      <td>2583</td>\n",
       "      <td>2358.0</td>\n",
       "      <td>120.0</td>\n",
       "      <td>360.0</td>\n",
       "      <td>1.0</td>\n",
       "      <td>Urban</td>\n",
       "      <td>Y</td>\n",
       "    </tr>\n",
       "    <tr>\n",
       "      <td>4</td>\n",
       "      <td>LP001008</td>\n",
       "      <td>Male</td>\n",
       "      <td>No</td>\n",
       "      <td>0</td>\n",
       "      <td>Graduate</td>\n",
       "      <td>No</td>\n",
       "      <td>6000</td>\n",
       "      <td>0.0</td>\n",
       "      <td>141.0</td>\n",
       "      <td>360.0</td>\n",
       "      <td>1.0</td>\n",
       "      <td>Urban</td>\n",
       "      <td>Y</td>\n",
       "    </tr>\n",
       "  </tbody>\n",
       "</table>\n",
       "</div>"
      ],
      "text/plain": [
       "    Loan_ID Gender Married Dependents     Education Self_Employed  \\\n",
       "0  LP001002   Male      No          0      Graduate            No   \n",
       "1  LP001003   Male     Yes          1      Graduate            No   \n",
       "2  LP001005   Male     Yes          0      Graduate           Yes   \n",
       "3  LP001006   Male     Yes          0  Not Graduate            No   \n",
       "4  LP001008   Male      No          0      Graduate            No   \n",
       "\n",
       "   ApplicantIncome  CoapplicantIncome  LoanAmount  Loan_Amount_Term  \\\n",
       "0             5849                0.0         NaN             360.0   \n",
       "1             4583             1508.0       128.0             360.0   \n",
       "2             3000                0.0        66.0             360.0   \n",
       "3             2583             2358.0       120.0             360.0   \n",
       "4             6000                0.0       141.0             360.0   \n",
       "\n",
       "   Credit_History Property_Area Loan_Status  \n",
       "0             1.0         Urban           Y  \n",
       "1             1.0         Rural           N  \n",
       "2             1.0         Urban           Y  \n",
       "3             1.0         Urban           Y  \n",
       "4             1.0         Urban           Y  "
      ]
     },
     "execution_count": 5,
     "metadata": {},
     "output_type": "execute_result"
    }
   ],
   "source": [
    "train_df.head(5)"
   ]
  },
  {
   "cell_type": "code",
   "execution_count": 6,
   "metadata": {},
   "outputs": [
    {
     "data": {
      "text/html": [
       "<div>\n",
       "<style scoped>\n",
       "    .dataframe tbody tr th:only-of-type {\n",
       "        vertical-align: middle;\n",
       "    }\n",
       "\n",
       "    .dataframe tbody tr th {\n",
       "        vertical-align: top;\n",
       "    }\n",
       "\n",
       "    .dataframe thead th {\n",
       "        text-align: right;\n",
       "    }\n",
       "</style>\n",
       "<table border=\"1\" class=\"dataframe\">\n",
       "  <thead>\n",
       "    <tr style=\"text-align: right;\">\n",
       "      <th></th>\n",
       "      <th>ApplicantIncome</th>\n",
       "      <th>CoapplicantIncome</th>\n",
       "      <th>LoanAmount</th>\n",
       "      <th>Loan_Amount_Term</th>\n",
       "      <th>Credit_History</th>\n",
       "    </tr>\n",
       "  </thead>\n",
       "  <tbody>\n",
       "    <tr>\n",
       "      <td>count</td>\n",
       "      <td>614.000000</td>\n",
       "      <td>614.000000</td>\n",
       "      <td>592.000000</td>\n",
       "      <td>600.00000</td>\n",
       "      <td>564.000000</td>\n",
       "    </tr>\n",
       "    <tr>\n",
       "      <td>mean</td>\n",
       "      <td>5403.459283</td>\n",
       "      <td>1621.245798</td>\n",
       "      <td>146.412162</td>\n",
       "      <td>342.00000</td>\n",
       "      <td>0.842199</td>\n",
       "    </tr>\n",
       "    <tr>\n",
       "      <td>std</td>\n",
       "      <td>6109.041673</td>\n",
       "      <td>2926.248369</td>\n",
       "      <td>85.587325</td>\n",
       "      <td>65.12041</td>\n",
       "      <td>0.364878</td>\n",
       "    </tr>\n",
       "    <tr>\n",
       "      <td>min</td>\n",
       "      <td>150.000000</td>\n",
       "      <td>0.000000</td>\n",
       "      <td>9.000000</td>\n",
       "      <td>12.00000</td>\n",
       "      <td>0.000000</td>\n",
       "    </tr>\n",
       "    <tr>\n",
       "      <td>50%</td>\n",
       "      <td>3812.500000</td>\n",
       "      <td>1188.500000</td>\n",
       "      <td>128.000000</td>\n",
       "      <td>360.00000</td>\n",
       "      <td>1.000000</td>\n",
       "    </tr>\n",
       "    <tr>\n",
       "      <td>75%</td>\n",
       "      <td>5795.000000</td>\n",
       "      <td>2297.250000</td>\n",
       "      <td>168.000000</td>\n",
       "      <td>360.00000</td>\n",
       "      <td>1.000000</td>\n",
       "    </tr>\n",
       "    <tr>\n",
       "      <td>95%</td>\n",
       "      <td>14583.000000</td>\n",
       "      <td>4997.400000</td>\n",
       "      <td>297.800000</td>\n",
       "      <td>360.00000</td>\n",
       "      <td>1.000000</td>\n",
       "    </tr>\n",
       "    <tr>\n",
       "      <td>99%</td>\n",
       "      <td>32540.410000</td>\n",
       "      <td>8895.890000</td>\n",
       "      <td>496.360000</td>\n",
       "      <td>480.00000</td>\n",
       "      <td>1.000000</td>\n",
       "    </tr>\n",
       "    <tr>\n",
       "      <td>99.5%</td>\n",
       "      <td>39943.620000</td>\n",
       "      <td>19434.500000</td>\n",
       "      <td>600.000000</td>\n",
       "      <td>480.00000</td>\n",
       "      <td>1.000000</td>\n",
       "    </tr>\n",
       "    <tr>\n",
       "      <td>99.8%</td>\n",
       "      <td>60721.276000</td>\n",
       "      <td>30709.838000</td>\n",
       "      <td>640.900000</td>\n",
       "      <td>480.00000</td>\n",
       "      <td>1.000000</td>\n",
       "    </tr>\n",
       "    <tr>\n",
       "      <td>max</td>\n",
       "      <td>81000.000000</td>\n",
       "      <td>41667.000000</td>\n",
       "      <td>700.000000</td>\n",
       "      <td>480.00000</td>\n",
       "      <td>1.000000</td>\n",
       "    </tr>\n",
       "  </tbody>\n",
       "</table>\n",
       "</div>"
      ],
      "text/plain": [
       "       ApplicantIncome  CoapplicantIncome  LoanAmount  Loan_Amount_Term  \\\n",
       "count       614.000000         614.000000  592.000000         600.00000   \n",
       "mean       5403.459283        1621.245798  146.412162         342.00000   \n",
       "std        6109.041673        2926.248369   85.587325          65.12041   \n",
       "min         150.000000           0.000000    9.000000          12.00000   \n",
       "50%        3812.500000        1188.500000  128.000000         360.00000   \n",
       "75%        5795.000000        2297.250000  168.000000         360.00000   \n",
       "95%       14583.000000        4997.400000  297.800000         360.00000   \n",
       "99%       32540.410000        8895.890000  496.360000         480.00000   \n",
       "99.5%     39943.620000       19434.500000  600.000000         480.00000   \n",
       "99.8%     60721.276000       30709.838000  640.900000         480.00000   \n",
       "max       81000.000000       41667.000000  700.000000         480.00000   \n",
       "\n",
       "       Credit_History  \n",
       "count      564.000000  \n",
       "mean         0.842199  \n",
       "std          0.364878  \n",
       "min          0.000000  \n",
       "50%          1.000000  \n",
       "75%          1.000000  \n",
       "95%          1.000000  \n",
       "99%          1.000000  \n",
       "99.5%        1.000000  \n",
       "99.8%        1.000000  \n",
       "max          1.000000  "
      ]
     },
     "metadata": {},
     "output_type": "display_data"
    }
   ],
   "source": [
    "display(train_df.describe([0.5,0.75,0.95,0.99,0.995,0.998]))"
   ]
  },
  {
   "cell_type": "code",
   "execution_count": null,
   "metadata": {},
   "outputs": [],
   "source": [
    "train_df = train_df.loc[train_df[col] <= HV_quantile[col]]"
   ]
  },
  {
   "cell_type": "code",
   "execution_count": null,
   "metadata": {},
   "outputs": [],
   "source": [
    "round(train_df.isnull().sum(axis=0)/len(train_df)*100,2) # Pecentage of NaN per column in train set"
   ]
  },
  {
   "cell_type": "markdown",
   "metadata": {},
   "source": [
    "**Catgorical features**\n",
    "- Gender\n",
    "- Married\n",
    "- Dependants\n",
    "- Education\n",
    "- Self_Employed\n",
    "- Credit_History\n",
    "- Property_Area\n",
    "\n",
    "**Numerical features**\n",
    "- ApplicantIncome\n",
    "- CoapplicantIncome\n",
    "- LoanAmount\n",
    "- Loan_Amount_Term??"
   ]
  },
  {
   "cell_type": "markdown",
   "metadata": {},
   "source": [
    "### EDA - Univariate Analysis"
   ]
  },
  {
   "cell_type": "code",
   "execution_count": 8,
   "metadata": {},
   "outputs": [
    {
     "data": {
      "image/png": "[encoded data removed]",
      "text/plain": [
       "<Figure size 432x216 with 1 Axes>"
      ]
     },
     "metadata": {},
     "output_type": "display_data"
    }
   ],
   "source": [
    "plt.figure(figsize=(6, 3))  \n",
    "train_df.Loan_Status.value_counts().plot.bar();"
   ]
  },
  {
   "cell_type": "code",
   "execution_count": 9,
   "metadata": {
    "scrolled": true
   },
   "outputs": [
    {
     "data": {
      "image/png": "[encoded data removed]",
      "text/plain": [
       "<Figure size 1440x576 with 8 Axes>"
      ]
     },
     "metadata": {},
     "output_type": "display_data"
    }
   ],
   "source": [
    "Cat_cols = ['Gender', 'Married', 'Dependents', 'Education', 'Self_Employed', 'Loan_Amount_Term', 'Credit_History', 'Property_Area']\n",
    "\n",
    "plt.figure(figsize=(20, 8))  \n",
    "for i in range(0,2):\n",
    "    for j in range(0,4):\n",
    "        idx = (i*4)+j\n",
    "        if(idx <=7):\n",
    "            plt.subplot(2,4, idx+1)\n",
    "            train_df[Cat_cols[idx]].value_counts().plot(kind='bar', title= Cat_cols[idx], rot=0)\n",
    "plt.show()\n"
   ]
  },
  {
   "cell_type": "code",
   "execution_count": 10,
   "metadata": {},
   "outputs": [],
   "source": [
    "def plot_univariate_continous(df, col):\n",
    "    plt.figure(figsize=(10, 3))\n",
    "    ax1 = plt.subplot(1, 2, 1)\n",
    "    sns.distplot(df[col].dropna())\n",
    "    ax2 = plt.subplot(1, 2, 2)\n",
    "    sns.boxenplot(df[col].dropna())\n",
    "    plt.show()"
   ]
  },
  {
   "cell_type": "code",
   "execution_count": 11,
   "metadata": {},
   "outputs": [
    {
     "name": "stderr",
     "output_type": "stream",
     "text": [
      "'c' argument looks like a single numeric RGB or RGBA sequence, which should be avoided as value-mapping will have precedence in case its length matches with 'x' & 'y'.  Please use a 2-D array with a single row if you really want to specify the same RGB or RGBA value for all points.\n"
     ]
    },
    {
     "data": {
      "image/png": "[encoded data removed]",
      "text/plain": [
       "<Figure size 720x216 with 2 Axes>"
      ]
     },
     "metadata": {},
     "output_type": "display_data"
    },
    {
     "name": "stderr",
     "output_type": "stream",
     "text": [
      "'c' argument looks like a single numeric RGB or RGBA sequence, which should be avoided as value-mapping will have precedence in case its length matches with 'x' & 'y'.  Please use a 2-D array with a single row if you really want to specify the same RGB or RGBA value for all points.\n"
     ]
    },
    {
     "data": {
      "image/png": "[encoded data removed]",
      "text/plain": [
       "<Figure size 720x216 with 2 Axes>"
      ]
     },
     "metadata": {},
     "output_type": "display_data"
    },
    {
     "name": "stderr",
     "output_type": "stream",
     "text": [
      "'c' argument looks like a single numeric RGB or RGBA sequence, which should be avoided as value-mapping will have precedence in case its length matches with 'x' & 'y'.  Please use a 2-D array with a single row if you really want to specify the same RGB or RGBA value for all points.\n"
     ]
    },
    {
     "data": {
      "image/png": "[encoded data removed]",
      "text/plain": [
       "<Figure size 720x216 with 2 Axes>"
      ]
     },
     "metadata": {},
     "output_type": "display_data"
    }
   ],
   "source": [
    "num_cols = ['ApplicantIncome','CoapplicantIncome','LoanAmount']\n",
    "\n",
    "for col in num_cols:\n",
    "    plot_univariate_continous(train_df, col)\n"
   ]
  },
  {
   "cell_type": "markdown",
   "metadata": {},
   "source": [
    "### EDA - Bivariate Analysis"
   ]
  },
  {
   "cell_type": "code",
   "execution_count": null,
   "metadata": {},
   "outputs": [],
   "source": [
    "sns.heatmap(train_df[num_cols].corr(), annot=True)\n",
    "plt.show()"
   ]
  },
  {
   "cell_type": "code",
   "execution_count": 12,
   "metadata": {},
   "outputs": [
    {
     "data": {
      "image/png": "[encoded data removed]",
      "text/plain": [
       "<Figure size 1080x360 with 2 Axes>"
      ]
     },
     "metadata": {},
     "output_type": "display_data"
    }
   ],
   "source": [
    "#sns.regplot(x=\"ApplicantIncome\", y=\"LoanAmount\", data=train_df)\n",
    "plt.figure(figsize=(15,5))\n",
    "plt.subplot(1,2,1)\n",
    "sns.scatterplot(x=\"ApplicantIncome\", y=\"LoanAmount\", data=train_df,hue='Loan_Status')\n",
    "plt.subplot(1,2,2)\n",
    "sns.scatterplot(x=\"CoapplicantIncome\", y=\"LoanAmount\", data=train_df,hue='Loan_Status')\n",
    "plt.show()"
   ]
  },
  {
   "cell_type": "markdown",
   "metadata": {},
   "source": [
    "#fig, axes = plt.subplots(2, 4, figsize =(20,6), sharey = True)\n",
    "plt.figure(figsize=(20, 8))  \n",
    "for i in range(0,2):\n",
    "    for j in range(0,4):\n",
    "        idx = (i*4)+j\n",
    "        if(idx <=7):\n",
    "            plt.subplot(2,4, idx+1)\n",
    "            pd.crosstab(train_df[Cat_cols[idx]], train_df.Loan_Status, dropna=False, normalize='index').plot.bar(stacked=True, rot=0)\n",
    "plt.show()"
   ]
  },
  {
   "cell_type": "code",
   "execution_count": null,
   "metadata": {},
   "outputs": [],
   "source": [
    "#for col in Cat_cols:\n",
    "    #print(, '\\n')"
   ]
  },
  {
   "cell_type": "code",
   "execution_count": null,
   "metadata": {},
   "outputs": [],
   "source": [
    "#for col in num_cols:\n",
    "  # g = sns.boxplot(y=train_df[col].dropna(), x=train_df['Loan_Status'])\n",
    "   #g.set_yscale(\"log\")\n",
    "  # plt.show()"
   ]
  },
  {
   "cell_type": "markdown",
   "metadata": {},
   "source": [
    "### Feature Engineering"
   ]
  },
  {
   "cell_type": "code",
   "execution_count": null,
   "metadata": {},
   "outputs": [],
   "source": [
    "# impute categorical columns with Mode and numerical values with mean"
   ]
  },
  {
   "cell_type": "code",
   "execution_count": null,
   "metadata": {},
   "outputs": [],
   "source": [
    "train_df['Gender'].fillna( train_df['Gender'].dropna().mode().values[0], inplace=True)\n",
    "train_df['Married'].fillna( train_df['Married'].dropna().mode().values[0], inplace=True)\n",
    "train_df['Dependents'].fillna( train_df['Dependents'].dropna().mode().values[0], inplace=True)\n",
    "train_df['Self_Employed'].fillna( train_df['Self_Employed'].dropna().mode().values[0], inplace=True)\n",
    "train_df['Loan_Amount_Term'].fillna( train_df['Loan_Amount_Term'].dropna().mode().values[0], inplace=True)\n",
    "train_df['Credit_History'].fillna( train_df['Credit_History'].dropna().mode().values[0], inplace=True)"
   ]
  },
  {
   "cell_type": "code",
   "execution_count": null,
   "metadata": {},
   "outputs": [],
   "source": [
    "display(train_df['Dependents'].value_counts())\n",
    "display(train_df['Gender'].value_counts())\n",
    "display(train_df['Married'].value_counts())\n",
    "display(train_df['Education'].value_counts())\n",
    "display(train_df['Self_Employed'].value_counts())\n",
    "display(train_df['Loan_Status'].value_counts())"
   ]
  },
  {
   "cell_type": "code",
   "execution_count": null,
   "metadata": {},
   "outputs": [],
   "source": [
    "train_df['Dependents'] = train_df['Dependents'].str.rstrip('+').astype(np.int) # to replace 3+ with 3\n",
    "train_df['Gender'] = train_df['Gender'].map({'Female':0,'Male':1}).astype(np.int)\n",
    "train_df['Married'] = train_df['Married'].map({'No':0, 'Yes':1}).astype(np.int)\n",
    "train_df['Education'] = train_df['Education'].map({'Not Graduate':0, 'Graduate':1}).astype(np.int)\n",
    "train_df['Self_Employed'] = train_df['Self_Employed'].map({'No':0, 'Yes':1}).astype(np.int)\n",
    "train_df['Loan_Status'] = train_df['Loan_Status'].map({'N':0, 'Y':1}).astype(np.int)\n"
   ]
  },
  {
   "cell_type": "code",
   "execution_count": null,
   "metadata": {},
   "outputs": [],
   "source": [
    "train_df['LoanAmount'] = train_df['LoanAmount'].fillna( train_df['LoanAmount'].dropna().mean() )"
   ]
  },
  {
   "cell_type": "code",
   "execution_count": null,
   "metadata": {},
   "outputs": [],
   "source": [
    "train_df.info()"
   ]
  },
  {
   "cell_type": "code",
   "execution_count": null,
   "metadata": {},
   "outputs": [],
   "source": [
    "train_df.drop(['Loan_ID'], axis=1, inplace=True)"
   ]
  },
  {
   "cell_type": "markdown",
   "metadata": {},
   "source": [
    "### Deriving new features"
   ]
  },
  {
   "cell_type": "code",
   "execution_count": null,
   "metadata": {},
   "outputs": [],
   "source": [
    "train_df['LoanAmount'] = train_df['LoanAmount'] *  1000\n",
    "train_df['TotalIncome'] = train_df['ApplicantIncome'] + train_df['CoapplicantIncome']\n",
    "Monthly_intrate = 1 # equal to 12% Anual interest rate\n",
    "p = train_df['LoanAmount']\n",
    "R = 8 ## Anual rate\n",
    "r = R /(12*100)\n",
    "n = train_df['Loan_Amount_Term']\n",
    "train_df['EMI']= (p*r* np.power(1+r, n))/(np.power(1+r, n)-1)\n",
    "\n",
    "#train_df['EMI'] = train_df['LoanAmount']/ train_df['Loan_Amount_Term']\n",
    "#train_df['BalanceIncome'] =  train_df['EMI'] / train_df['TotalIncome']"
   ]
  },
  {
   "cell_type": "code",
   "execution_count": null,
   "metadata": {},
   "outputs": [],
   "source": [
    "#train_df['BalanceIncome'] =  train_df['EMI'] / train_df['TotalIncome']\n",
    "train_df['BalanceIncome'] =  train_df['TotalIncome']-train_df['EMI'] "
   ]
  },
  {
   "cell_type": "code",
   "execution_count": null,
   "metadata": {},
   "outputs": [],
   "source": [
    "train_df[['LoanAmount','EMI','TotalIncome','BalanceIncome']].head(10)"
   ]
  },
  {
   "cell_type": "code",
   "execution_count": null,
   "metadata": {},
   "outputs": [],
   "source": [
    "train_df.describe()"
   ]
  },
  {
   "cell_type": "code",
   "execution_count": null,
   "metadata": {},
   "outputs": [],
   "source": [
    "train_df.head(5)"
   ]
  },
  {
   "cell_type": "code",
   "execution_count": null,
   "metadata": {},
   "outputs": [],
   "source": [
    "derive_col = ['TotalIncome','EMI','BalanceIncome']\n",
    "\n",
    "for col in derive_col:\n",
    "    plot_univariate_continous(train_df, col)"
   ]
  },
  {
   "cell_type": "code",
   "execution_count": null,
   "metadata": {},
   "outputs": [],
   "source": [
    "#sns.boxplot(x=train_df.Loan_Status, y=train_df.BalanceIncome)"
   ]
  },
  {
   "cell_type": "markdown",
   "metadata": {},
   "source": [
    "def apply_transformation(transform_type):\n",
    "    if(transform_type == 'log'):\n"
   ]
  },
  {
   "cell_type": "markdown",
   "metadata": {},
   "source": [
    "        train_df['log_TotalIncome'] = np.log(train_df['TotalIncome'])\n",
    "        #train_df['log_ApplicantIncome'] = np.log(train_df['ApplicantIncome']+1)\n",
    "       # train_df['log_CoapplicantIncome'] = np.log(train_df['CoapplicantIncome']+1)\n",
    "        train_df['log_LoanAmount'] = np.log(train_df['LoanAmount'])\n",
    "        train_df['log_EMI'] = np.log(train_df['EMI'])\n",
    "        train_df['log_BalanceIncome'] = np.log(train_df['BalanceIncome'])"
   ]
  },
  {
   "cell_type": "code",
   "execution_count": null,
   "metadata": {},
   "outputs": [],
   "source": [
    "train_df.drop(columns=['ApplicantIncome', 'CoapplicantIncome','TotalIncome'], inplace=True)\n",
    "\n",
    "#plt.figure(figsize=(6,6))\n",
    "sns.heatmap(train_df[['EMI','BalanceIncome']].corr(), annot=True)\n",
    "plt.show()"
   ]
  },
  {
   "cell_type": "code",
   "execution_count": null,
   "metadata": {},
   "outputs": [],
   "source": [
    "#train_df.drop(['TotalIncome', 'ApplicantIncome', 'CoapplicantIncome', 'LoanAmount', 'EMI', 'BalanceIncome', 'Loan_Amount_Term' ], axis=1, inplace=True)\n",
    "\n"
   ]
  },
  {
   "cell_type": "code",
   "execution_count": null,
   "metadata": {},
   "outputs": [],
   "source": [
    "train_df.describe()"
   ]
  },
  {
   "cell_type": "code",
   "execution_count": null,
   "metadata": {},
   "outputs": [],
   "source": [
    "dummy_df = train_df[['Dependents','Property_Area','Loan_Amount_Term']]\n",
    "dummy_df = pd.get_dummies(data=dummy_df,columns=dummy_df.columns,drop_first=True)\n",
    "#dummy_df = pd.get_dummies(train_df)\n",
    "dummy_df.head()"
   ]
  },
  {
   "cell_type": "code",
   "execution_count": null,
   "metadata": {},
   "outputs": [],
   "source": [
    "train_df.drop(columns=['Dependents','Property_Area','Loan_Amount_Term'],inplace=True)\n",
    "train_df = pd.concat([train_df,dummy_df],axis=1)\n",
    "train_df.shape"
   ]
  },
  {
   "cell_type": "code",
   "execution_count": null,
   "metadata": {},
   "outputs": [],
   "source": [
    "train_df.describe()"
   ]
  },
  {
   "cell_type": "code",
   "execution_count": null,
   "metadata": {},
   "outputs": [],
   "source": [
    "X = train_df.drop(['Loan_Status'], axis=1)\n",
    "y = train_df.Loan_Status"
   ]
  },
  {
   "cell_type": "code",
   "execution_count": null,
   "metadata": {},
   "outputs": [],
   "source": [
    "#SS = StandardScaler() # Use standard scaler for scaling continous features\n",
    "#train_columns = train_df.columns\n",
    "#train_df_ss = pd.DataFrame(SS.fit_transform(train_df),columns=train_columns)\n",
    "#train_df_ss.describe()\n",
    "\n",
    "X_cat_cols = ['Gender','Married','Education','Self_Employed','Credit_History'] + list(dummy_df.columns.values)\n",
    "X_num_cols = X.drop(X_cat_cols,axis=1).columns.tolist()\n",
    "\n",
    "SS = StandardScaler() # Use standard scaler for scaling continous features\n",
    "X = pd.concat([X[X_cat_cols],pd.DataFrame(SS.fit_transform(X.drop(X_cat_cols, axis=1)))], axis=1)\n",
    "\n",
    "X.columns = X_cat_cols+X_num_cols"
   ]
  },
  {
   "cell_type": "code",
   "execution_count": null,
   "metadata": {},
   "outputs": [],
   "source": [
    "display(round(X.describe(),2))"
   ]
  },
  {
   "cell_type": "markdown",
   "metadata": {},
   "source": [
    "## Model Preparation"
   ]
  },
  {
   "cell_type": "code",
   "execution_count": null,
   "metadata": {},
   "outputs": [],
   "source": [
    "from xgboost import XGBClassifier\n",
    "from sklearn.model_selection import GridSearchCV\n",
    "from sklearn.ensemble import RandomForestClassifier\n",
    "from sklearn.model_selection import train_test_split,KFold,StratifiedKFold\n",
    "#from imblearn.ensemble import RUSBoostClassifier\n",
    "from sklearn.tree import DecisionTreeClassifier\n",
    "from sklearn.svm import SVC"
   ]
  },
  {
   "cell_type": "markdown",
   "metadata": {},
   "source": [
    "### XGBoost "
   ]
  },
  {
   "cell_type": "code",
   "execution_count": null,
   "metadata": {},
   "outputs": [],
   "source": [
    "\n",
    "# hyperparameter tuning with XGBoost\n",
    "\n",
    "# specify range of hyperparameters\n",
    "param_grid = { \n",
    "              'learning_rate':[0.0001,0.001,0.01],\n",
    "              #'max_depth': range(3,11,1),\n",
    "              'max_depth': [3,4],\n",
    "              #'n_estimators':range(100,1300,100),\n",
    "              'n_estimators': range(100,400,100)\n",
    "              #'subsample' : [0.7, 0.8, 1.0]\n",
    "              #'gamma': [0,0.1,0.2,0.3,0.4],\n",
    "              #'gamma': [0],\n",
    "              # 'reg_alpha':[0.01,0.1,1,10],\n",
    "              #'reg_lambda':[0.01,0.1,1,10],   \n",
    "            #   'scale_pos_weight': [0.25] \n",
    "             #   'scale_pos_weight': ['balanced']\n",
    "             }\n",
    "\n",
    "# specify model\n",
    "folds = folds = StratifiedKFold(n_splits=5,shuffle=True,random_state=42)\n",
    "scoring = ['accuracy', 'recall', 'precision']\n",
    "xgb = XGBClassifier(random_state=42)\n",
    "\n",
    "# set up GridSearchCV()\n",
    "model_cv_xgb = GridSearchCV(estimator = xgb,\n",
    "                        param_grid = param_grid, \n",
    "                        scoring= scoring, \n",
    "                        refit = 'accuracy',\n",
    "                        cv = folds,\n",
    "                        verbose = 3,\n",
    "                        return_train_score=True) \n",
    "\n",
    "model_cv_xgb.fit(X, y)\n",
    "cv_result_xgb =pd.DataFrame(model_cv_xgb.cv_results_)\n",
    "display(cv_result_xgb)\n"
   ]
  },
  {
   "cell_type": "code",
   "execution_count": null,
   "metadata": {},
   "outputs": [],
   "source": [
    "print('Best score : ', model_cv_xgb.best_score_, 'is obtained with ', model_cv_xgb.best_params_)\n",
    "model_xgb = model_cv_xgb.best_estimator_\n",
    "#print(\"\\n Best Estimator:\",model_xgb)\n",
    "model_xgb.fit(X, y)"
   ]
  },
  {
   "cell_type": "code",
   "execution_count": null,
   "metadata": {},
   "outputs": [],
   "source": [
    "features = X.columns.tolist()\n",
    "importance = model_xgb.feature_importances_\n",
    "rf_coefs = pd.Series(importance,index=features)\n",
    "\n",
    "plt.figure(figsize=(10,6))\n",
    "rf_coefs[(rf_coefs>0.005)].sort_values().plot.barh()\n",
    "plt.show()"
   ]
  },
  {
   "cell_type": "markdown",
   "metadata": {},
   "source": [
    "### Random Forest"
   ]
  },
  {
   "cell_type": "code",
   "execution_count": null,
   "metadata": {},
   "outputs": [],
   "source": [
    "# hyperparameter tuning with Random Forest\n",
    "\n",
    "# specify range of hyperparameters\n",
    "param_grid = {\n",
    "    \n",
    "      'max_depth': [ 3, 4, 5],\n",
    "     # 'max_depth': [10],\n",
    "    # 'min_samples_leaf': range(50,200 ,50),\n",
    "     'min_samples_split': [100, 150, 200],     \n",
    "    # 'class_weight' : ['balanced', {0:1, 1:16}] ,           \n",
    "     'class_weight' : [  None]  ,\n",
    "    # 'n_estimators': range(100,300,100)\n",
    "     'n_estimators': [100, 200]\n",
    "   \n",
    "}\n",
    "\n",
    "# specify model\n",
    "folds = StratifiedKFold(n_splits=5,shuffle=True,random_state=42)\n",
    "scoring = ['accuracy', 'recall', 'precision']\n",
    "rf2 = RandomForestClassifier( random_state=42,oob_score=True)\n",
    "\n",
    "# set up GridSearchCV()\n",
    "\n",
    "model_cv_rf2 = GridSearchCV(estimator = rf2,\n",
    "                        param_grid = param_grid, \n",
    "                        scoring= scoring, \n",
    "                        refit='accuracy',\n",
    "                        cv = folds,\n",
    "                        verbose = 3,\n",
    "                        return_train_score=True)                         \n",
    "                \n",
    "model_cv_rf2.fit(X, y)\n",
    "cv_result_rf2 =pd.DataFrame(model_cv_rf2.cv_results_)\n",
    "display(cv_result_rf2)"
   ]
  },
  {
   "cell_type": "code",
   "execution_count": null,
   "metadata": {},
   "outputs": [],
   "source": [
    "print('Best score : ', model_cv_rf2.best_score_, 'is obtained with ', model_cv_rf2.best_params_)\n",
    "model_rf = model_cv_rf2.best_estimator_\n",
    "#print(\"\\n Best Estimator:\",model_xgb)\n",
    "model_rf.fit(X, y)"
   ]
  },
  {
   "cell_type": "code",
   "execution_count": null,
   "metadata": {
    "scrolled": true
   },
   "outputs": [],
   "source": [
    "features = X.columns.tolist()\n",
    "importance = model_rf.feature_importances_\n",
    "rf_coefs = pd.Series(importance,index=features)\n",
    "\n",
    "plt.figure(figsize=(10,6))\n",
    "rf_coefs[(rf_coefs>0.005)].sort_values().plot.barh()\n",
    "plt.show()"
   ]
  },
  {
   "cell_type": "markdown",
   "metadata": {},
   "source": [
    "### ADA Boosting"
   ]
  },
  {
   "cell_type": "code",
   "execution_count": null,
   "metadata": {},
   "outputs": [],
   "source": [
    "from sklearn.ensemble import AdaBoostClassifier\n",
    "# hyperparameter tuning with Random Forest\n",
    "\n",
    "# specify range of hyperparameters\n",
    "param_grid = {\n",
    "    \n",
    "     'learning_rate': [0.0001, 0.001, .01, .1],\n",
    "     'n_estimators': [ 20, 50]\n",
    "   \n",
    "}\n",
    "\n",
    "\n",
    "folds = StratifiedKFold(n_splits=5,shuffle=True,random_state=42)\n",
    "\n",
    "scoring = ['accuracy', 'recall', 'precision']\n",
    "rus_bc = AdaBoostClassifier(algorithm='SAMME.R', random_state=42)\n",
    "\n",
    "# set up GridSearchCV()\n",
    "\n",
    "model_cv_rus_bc = GridSearchCV(estimator = rus_bc,\n",
    "                        param_grid = param_grid, \n",
    "                        scoring= scoring, \n",
    "                        refit='accuracy',\n",
    "                        cv = folds,\n",
    "                        verbose = 3,\n",
    "                        return_train_score=True)                         \n",
    "                \n",
    "model_cv_rus_bc.fit(X, y)\n",
    "cv_result_rus =pd.DataFrame(model_cv_rus_bc.cv_results_)\n",
    "display(cv_result_rus)"
   ]
  },
  {
   "cell_type": "code",
   "execution_count": null,
   "metadata": {},
   "outputs": [],
   "source": [
    "print('Best score : ', model_cv_rus_bc.best_score_, 'is obtained with ', model_cv_rus_bc.best_params_)\n",
    "model_rus = model_cv_rus_bc.best_estimator_\n",
    "#print(\"\\n Best Estimator:\",model_xgb)\n",
    "model_rus.fit(X, y)"
   ]
  },
  {
   "cell_type": "code",
   "execution_count": null,
   "metadata": {},
   "outputs": [],
   "source": [
    "features = X.columns.tolist()\n",
    "importance = model_rf.feature_importances_\n",
    "rf_coefs = pd.Series(importance,index=features)\n",
    "\n",
    "plt.figure(figsize=(10,6))\n",
    "rf_coefs[(rf_coefs>0.005)].sort_values().plot.barh()\n",
    "plt.show()"
   ]
  },
  {
   "cell_type": "markdown",
   "metadata": {},
   "source": [
    "### Logistic regression "
   ]
  },
  {
   "cell_type": "code",
   "execution_count": null,
   "metadata": {},
   "outputs": [],
   "source": [
    "from sklearn.linear_model import LogisticRegression\n",
    "# hyperparameter tuning with Random Forest\n",
    "\n",
    "param_grid = {\n",
    "    'penalty' : [  'l2', 'none']\n",
    "}\n",
    "\n",
    "folds = StratifiedKFold(n_splits=5,shuffle=True,random_state=42)\n",
    "\n",
    "scoring = ['accuracy', 'recall', 'precision']\n",
    "lr = LogisticRegression(random_state=42)\n",
    "\n",
    "# set up GridSearchCV()\n",
    "\n",
    "model_cv_lr = GridSearchCV(lr,\n",
    "                        scoring= scoring, \n",
    "                        param_grid = param_grid, \n",
    "                        refit='accuracy',\n",
    "                        cv = folds,\n",
    "                        verbose = 3,\n",
    "                        return_train_score=True)                         \n",
    "                \n",
    "model_cv_lr.fit(X, y)\n",
    "cv_result_lr =pd.DataFrame(model_cv_lr.cv_results_)\n",
    "display(cv_result_lr)"
   ]
  },
  {
   "cell_type": "code",
   "execution_count": null,
   "metadata": {},
   "outputs": [],
   "source": [
    "print('Best score : ', model_cv_lr.best_score_, 'is obtained with ', model_cv_lr.best_params_)\n",
    "model_lr = model_cv_lr.best_estimator_\n",
    "#print(\"\\n Best Estimator:\",model_xgb)\n",
    "model_lr.fit(X, y)"
   ]
  },
  {
   "cell_type": "code",
   "execution_count": null,
   "metadata": {},
   "outputs": [],
   "source": [
    "from sklearn.decomposition import PCA\n",
    "pca = PCA(n_components=0.99,random_state=42)\n",
    "X_reduced = pca.fit_transform(X)\n",
    "#Xtest_reduced = pca.transform(X_test)\n",
    "print(' No of components after PCA :', pca.n_components_)"
   ]
  },
  {
   "cell_type": "code",
   "execution_count": null,
   "metadata": {},
   "outputs": [],
   "source": [
    "plt.figure(figsize=(8,4))\n",
    "plt.plot(np.cumsum(pca.explained_variance_ratio_).round(4))\n",
    "#plt.vlines(x=52,ymin=0,ymax=1.05,color='r',linestyles='dashed')\n",
    "#plt.vlines(x=66,ymin=0,ymax=1.05,color='r',linestyles='dashed')\n",
    "#plt.hlines(y=0.95,xmin=0,xmax=80,color='g',linestyles='dashed')\n",
    "#plt.hlines(y=0.98,xmin=0,xmax=80,color='g',linestyles='dashed')\n",
    "plt.show()"
   ]
  },
  {
   "cell_type": "markdown",
   "metadata": {},
   "source": [
    "# SVM"
   ]
  },
  {
   "cell_type": "code",
   "execution_count": null,
   "metadata": {},
   "outputs": [],
   "source": [
    "# hyperparameter tuning with Random Forest\n",
    "\n",
    "# specify range of hyperparameters\n",
    "param_grid = { #'C': [1,10,100,1000],             \n",
    "              'C': range(1,25,1),  \n",
    "              # 'C': [2],\n",
    "              'gamma': [0.00001,0.0001,0.001,0.01,0.1,1],#,'scale', 'auto'], \n",
    "              # 'gamma': [0.001], \n",
    "              #'kernel': ['linear','rbf','poly','sigmoid'],\n",
    "              'kernel': ['rbf'],\n",
    "              #'class_weight': [{0:1, 1:0.5}]\n",
    "                'class_weight': ['balanced']\n",
    "              \n",
    "}\n",
    "\n",
    "# specify model\n",
    "folds = StratifiedKFold(n_splits=5,shuffle=True,random_state=42)\n",
    "scoring = ['accuracy', 'recall', 'precision']\n",
    "svc = SVC(random_state=42)\n",
    "\n",
    "# set up GridSearchCV()\n",
    "\n",
    "model_cv_svc = GridSearchCV(estimator = svc,\n",
    "                        param_grid = param_grid, \n",
    "                        scoring= scoring, \n",
    "                        refit='accuracy',\n",
    "                        cv = folds,\n",
    "                        verbose = 3,\n",
    "                        return_train_score=True)                         \n",
    "                \n",
    "model_cv_svc.fit(X, y)\n",
    "cv_result_svc =pd.DataFrame(model_cv_svc.cv_results_)\n",
    "#display(cv_result_svc.sort_values(by='rank_test_accuracy'))"
   ]
  },
  {
   "cell_type": "code",
   "execution_count": null,
   "metadata": {},
   "outputs": [],
   "source": [
    "print('Best score : ', round(model_cv_svc.best_score_,3), 'is obtained with ', model_cv_svc.best_params_)\n",
    "model_svc = model_cv_svc.best_estimator_\n",
    "#print(\"\\n Best Estimator:\",model_xgb)\n",
    "model_svc.fit(X, y)"
   ]
  },
  {
   "cell_type": "code",
   "execution_count": null,
   "metadata": {},
   "outputs": [],
   "source": [
    "cv_result_svc['param_C'] = cv_result_svc['param_C']#.astype('int')\n",
    "gamma= [0.0001,0.001,0.01,0.1,1]\n",
    "col_count = len(gamma)\n",
    "plt_count = 0\n",
    "\n",
    "if col_count > 5:\n",
    "    row_count=2\n",
    "else:\n",
    "    row_count=1\n",
    "\n",
    "plt.figure(figsize=(20,5*row_count))\n",
    "for g in gamma:\n",
    "    plt_count+=1\n",
    "    plt.subplot(row_count,col_count,plt_count)\n",
    "    gamma_df = cv_result_svc[cv_result_svc['param_gamma']==g]\n",
    "\n",
    "    plt.plot(gamma_df[\"param_C\"], gamma_df[\"mean_test_accuracy\"])\n",
    "    plt.plot(gamma_df[\"param_C\"], gamma_df[\"mean_train_accuracy\"])\n",
    "    plt.xlabel('C')\n",
    "    plt.ylabel('Accuracy')\n",
    "    title=\"Gamma=\"+str(g)\n",
    "    plt.title(title)\n",
    "    plt.ylim([0.60, 1])\n",
    "    plt.legend(['test accuracy', 'train accuracy'], loc='upper left')\n",
    "    #£plt.xscale('log')\n",
    "\n",
    "plt.show()"
   ]
  },
  {
   "cell_type": "code",
   "execution_count": null,
   "metadata": {},
   "outputs": [],
   "source": [
    "# converting C to numeric type for plotting on x-axis\n",
    "cv_result_svc['param_C'] = cv_result_svc['param_C'].astype('int')\n",
    "\n",
    "# # plotting\n",
    "plt.figure(figsize=(16,6))\n",
    "\n",
    "# subplot 1/3\n",
    "plt.subplot(131)\n",
    "gamma_01 = cv_result_svc[cv_result_svc['param_gamma']==0.01]\n",
    "\n",
    "plt.plot(gamma_01[\"param_C\"], gamma_01[\"mean_test_accuracy\"])\n",
    "plt.plot(gamma_01[\"param_C\"], gamma_01[\"mean_train_accuracy\"])\n",
    "plt.xlabel('C')\n",
    "plt.ylabel('Accuracy')\n",
    "plt.title(\"Gamma=0.01\")\n",
    "plt.ylim([0.60, 1])\n",
    "plt.legend(['test accuracy', 'train accuracy'], loc='upper left')\n",
    "plt.xscale('log')\n",
    "\n",
    "# subplot 2/3\n",
    "plt.subplot(132)\n",
    "gamma_001 = cv_result_svc[cv_result_svc['param_gamma']==0.001]\n",
    "\n",
    "plt.plot(gamma_001[\"param_C\"], gamma_001[\"mean_test_accuracy\"])\n",
    "plt.plot(gamma_001[\"param_C\"], gamma_001[\"mean_train_accuracy\"])\n",
    "plt.xlabel('C')\n",
    "plt.ylabel('Accuracy')\n",
    "plt.title(\"Gamma=0.001\")\n",
    "plt.ylim([0.60, 1])\n",
    "plt.legend(['test accuracy', 'train accuracy'], loc='upper left')\n",
    "plt.xscale('log')\n",
    "\n",
    "\n",
    "# subplot 3/3\n",
    "plt.subplot(133)\n",
    "gamma_0001 = cv_result_svc[cv_result_svc['param_gamma']==0.0001]\n",
    "\n",
    "plt.plot(gamma_0001[\"param_C\"], gamma_0001[\"mean_test_accuracy\"])\n",
    "plt.plot(gamma_0001[\"param_C\"], gamma_0001[\"mean_train_accuracy\"])\n",
    "plt.xlabel('C')\n",
    "plt.ylabel('Accuracy')\n",
    "plt.title(\"Gamma=0.0001\")\n",
    "plt.ylim([0.60, 1])\n",
    "plt.legend(['test accuracy', 'train accuracy'], loc='upper left')\n",
    "plt.xscale('log')"
   ]
  },
  {
   "cell_type": "markdown",
   "metadata": {},
   "source": [
    "### Prediction on Test set"
   ]
  },
  {
   "cell_type": "code",
   "execution_count": null,
   "metadata": {},
   "outputs": [],
   "source": [
    "test_df = pd.read_csv('test_lAUu6dG.csv')"
   ]
  },
  {
   "cell_type": "code",
   "execution_count": null,
   "metadata": {},
   "outputs": [],
   "source": [
    "test_df_copy = test_df.copy()"
   ]
  },
  {
   "cell_type": "code",
   "execution_count": null,
   "metadata": {},
   "outputs": [],
   "source": [
    "# impute categorical columns with Mode and numerical values with mean"
   ]
  },
  {
   "cell_type": "code",
   "execution_count": null,
   "metadata": {},
   "outputs": [],
   "source": [
    "test_df['Gender'].fillna( test_df['Gender'].dropna().mode().values[0], inplace=True)\n",
    "test_df['Married'].fillna( test_df['Married'].dropna().mode().values[0], inplace=True)\n",
    "test_df['Dependents'].fillna( test_df['Dependents'].dropna().mode().values[0], inplace=True)\n",
    "test_df['Self_Employed'].fillna( test_df['Self_Employed'].dropna().mode().values[0], inplace=True)\n",
    "test_df['Loan_Amount_Term'].fillna( test_df['Loan_Amount_Term'].dropna().mode().values[0], inplace=True)\n",
    "test_df['Credit_History'].fillna( test_df['Credit_History'].dropna().mode().values[0], inplace=True)"
   ]
  },
  {
   "cell_type": "code",
   "execution_count": null,
   "metadata": {},
   "outputs": [],
   "source": [
    "test_df['Dependents'] = test_df['Dependents'].str.rstrip('+').astype(np.int) # to replace 3+ with 3\n",
    "\n",
    "test_df['Gender'] = test_df['Gender'].map({'Female':0,'Male':1}).astype(np.int)\n",
    "test_df['Married'] = test_df['Married'].map({'No':0, 'Yes':1}).astype(np.int)\n",
    "test_df['Education'] = test_df['Education'].map({'Not Graduate':0, 'Graduate':1}).astype(np.int)\n",
    "test_df['Self_Employed'] = test_df['Self_Employed'].map({'No':0, 'Yes':1}).astype(np.int)\n"
   ]
  },
  {
   "cell_type": "code",
   "execution_count": null,
   "metadata": {},
   "outputs": [],
   "source": [
    "test_df['LoanAmount'] = test_df['LoanAmount'].fillna( test_df['LoanAmount'].dropna().mean() )"
   ]
  },
  {
   "cell_type": "code",
   "execution_count": null,
   "metadata": {},
   "outputs": [],
   "source": [
    "test_df.drop(['Loan_ID'], axis=1, inplace=True)"
   ]
  },
  {
   "cell_type": "code",
   "execution_count": null,
   "metadata": {},
   "outputs": [],
   "source": [
    "test_df['LoanAmount'] = test_df['LoanAmount'] *  1000\n",
    "test_df['TotalIncome'] = test_df['ApplicantIncome'] + test_df['CoapplicantIncome']\n",
    "\n",
    "p = test_df['LoanAmount']\n",
    "n = test_df['Loan_Amount_Term']\n",
    "test_df['EMI']= (p*r* np.power(1+r, n))/(np.power(1+r, n)-1)\n",
    "\n",
    "#train_df['EMI'] = train_df['LoanAmount']/ train_df['Loan_Amount_Term']\n",
    "test_df['BalanceIncome'] = (test_df['EMI'])/test_df['TotalIncome'] "
   ]
  },
  {
   "cell_type": "code",
   "execution_count": null,
   "metadata": {},
   "outputs": [],
   "source": [
    "test_df['log_TotalIncome'] = np.log(test_df['TotalIncome'])\n",
    "#test_df['log_ApplicantIncome'] = np.log(test_df['ApplicantIncome']+1)\n",
    "#test_df['log_CoapplicantIncome'] = np.log(test_df['CoapplicantIncome']+1)\n",
    "test_df['log_LoanAmount'] = np.log(test_df['LoanAmount'])\n",
    "test_df['log_EMI'] = np.log(test_df['EMI'])\n",
    "test_df['log_BalanceIncome'] = np.log(test_df['BalanceIncome'])"
   ]
  },
  {
   "cell_type": "code",
   "execution_count": null,
   "metadata": {},
   "outputs": [],
   "source": [
    "#test_df.drop(['TotalIncome', 'ApplicantIncome', 'CoapplicantIncome', 'LoanAmount', 'EMI', 'BalanceIncome', 'Loan_Amount_Term'], axis=1, inplace=True)"
   ]
  },
  {
   "cell_type": "code",
   "execution_count": null,
   "metadata": {},
   "outputs": [],
   "source": [
    "test_df = pd.get_dummies(test_df) "
   ]
  },
  {
   "cell_type": "code",
   "execution_count": null,
   "metadata": {},
   "outputs": [],
   "source": [
    "X_test = test_df"
   ]
  },
  {
   "cell_type": "code",
   "execution_count": null,
   "metadata": {},
   "outputs": [],
   "source": [
    "X_test.describe()"
   ]
  },
  {
   "cell_type": "code",
   "execution_count": null,
   "metadata": {},
   "outputs": [],
   "source": [
    "test_df_copy['Loan_Status_xgb'] = model_xgb.predict(X_test)\n",
    "test_df_copy['Loan_Status_rf'] = model_rf.predict(X_test)\n",
    "test_df_copy['Loan_Status_ada'] = model_rus.predict(X_test)\n",
    "\n",
    "#test_df_copy['Loan_Status'] = test_df_copy['Loan_Status_xgb'] + test_df_copy['Loan_Status_rf'] + test_df_copy['Loan_Status_ada']\n",
    "#test_df_copy['Loan_Status'] = test_df_copy['Loan_Status'].map({0:'N', 1:'N', 2:'Y', 3:'Y'})\n",
    "\n",
    "#test_df_copy['Loan_Status'] = model_lr.predict(X_test)\n",
    "test_df_copy['Loan_Status'] = model_rf.predict(X_test)\n",
    "test_df_copy['Loan_Status'] = test_df_copy['Loan_Status'].map({0:'N', 1:'Y'})"
   ]
  },
  {
   "cell_type": "code",
   "execution_count": null,
   "metadata": {},
   "outputs": [],
   "source": [
    "test_df_copy[[ 'Loan_ID', 'Loan_Status']].to_csv('prediction.csv',index=False)"
   ]
  },
  {
   "cell_type": "code",
   "execution_count": null,
   "metadata": {},
   "outputs": [],
   "source": []
  },
  {
   "cell_type": "code",
   "execution_count": null,
   "metadata": {},
   "outputs": [],
   "source": []
  }
 ],
 "metadata": {
  "kernelspec": {
   "display_name": "Python 3",
   "language": "python",
   "name": "python3"
  },
  "language_info": {
   "codemirror_mode": {
    "name": "ipython",
    "version": 3
   },
   "file_extension": ".py",
   "mimetype": "text/x-python",
   "name": "python",
   "nbconvert_exporter": "python",
   "pygments_lexer": "ipython3",
   "version": "3.7.4"
  }
 },
 "nbformat": 4,
 "nbformat_minor": 4
}
